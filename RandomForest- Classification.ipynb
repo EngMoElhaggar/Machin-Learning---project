{
 "cells": [
  {
   "cell_type": "markdown",
   "id": "80ec1dfa-757e-4cd1-ac6b-c7f2b515a182",
   "metadata": {},
   "source": [
    "# Importing Libraries And Read The Data"
   ]
  },
  {
   "cell_type": "code",
   "execution_count": 1,
   "id": "1e8e5a39-1446-4c8b-b3c6-9054cf5dbea8",
   "metadata": {},
   "outputs": [],
   "source": [
    "import pandas as pd \n",
    "import numpy as np \n",
    "from sklearn.ensemble import RandomForestClassifier\n",
    "from sklearn.preprocessing import StandardScaler\n",
    "from sklearn.pipeline import Pipeline\n",
    "from sklearn.metrics import accuracy_score ,confusion_matrix, classification_report\n",
    "from sklearn.model_selection import train_test_split"
   ]
  },
  {
   "cell_type": "code",
   "execution_count": 2,
   "id": "8704be99-fe69-4105-9614-301cecce744b",
   "metadata": {},
   "outputs": [
    {
     "data": {
      "text/html": [
       "<div>\n",
       "<style scoped>\n",
       "    .dataframe tbody tr th:only-of-type {\n",
       "        vertical-align: middle;\n",
       "    }\n",
       "\n",
       "    .dataframe tbody tr th {\n",
       "        vertical-align: top;\n",
       "    }\n",
       "\n",
       "    .dataframe thead th {\n",
       "        text-align: right;\n",
       "    }\n",
       "</style>\n",
       "<table border=\"1\" class=\"dataframe\">\n",
       "  <thead>\n",
       "    <tr style=\"text-align: right;\">\n",
       "      <th></th>\n",
       "      <th>age</th>\n",
       "      <th>sex</th>\n",
       "      <th>cp</th>\n",
       "      <th>trestbps</th>\n",
       "      <th>chol</th>\n",
       "      <th>fbs</th>\n",
       "      <th>restecg</th>\n",
       "      <th>thalach</th>\n",
       "      <th>exang</th>\n",
       "      <th>oldpeak</th>\n",
       "      <th>slope</th>\n",
       "      <th>ca</th>\n",
       "      <th>thal</th>\n",
       "      <th>target</th>\n",
       "    </tr>\n",
       "  </thead>\n",
       "  <tbody>\n",
       "    <tr>\n",
       "      <th>0</th>\n",
       "      <td>63</td>\n",
       "      <td>1</td>\n",
       "      <td>3</td>\n",
       "      <td>145</td>\n",
       "      <td>233</td>\n",
       "      <td>1</td>\n",
       "      <td>0</td>\n",
       "      <td>150</td>\n",
       "      <td>0</td>\n",
       "      <td>2.3</td>\n",
       "      <td>0</td>\n",
       "      <td>0</td>\n",
       "      <td>1</td>\n",
       "      <td>1</td>\n",
       "    </tr>\n",
       "    <tr>\n",
       "      <th>1</th>\n",
       "      <td>37</td>\n",
       "      <td>1</td>\n",
       "      <td>2</td>\n",
       "      <td>130</td>\n",
       "      <td>250</td>\n",
       "      <td>0</td>\n",
       "      <td>1</td>\n",
       "      <td>187</td>\n",
       "      <td>0</td>\n",
       "      <td>3.5</td>\n",
       "      <td>0</td>\n",
       "      <td>0</td>\n",
       "      <td>2</td>\n",
       "      <td>1</td>\n",
       "    </tr>\n",
       "    <tr>\n",
       "      <th>2</th>\n",
       "      <td>41</td>\n",
       "      <td>0</td>\n",
       "      <td>1</td>\n",
       "      <td>130</td>\n",
       "      <td>204</td>\n",
       "      <td>0</td>\n",
       "      <td>0</td>\n",
       "      <td>172</td>\n",
       "      <td>0</td>\n",
       "      <td>1.4</td>\n",
       "      <td>2</td>\n",
       "      <td>0</td>\n",
       "      <td>2</td>\n",
       "      <td>1</td>\n",
       "    </tr>\n",
       "    <tr>\n",
       "      <th>3</th>\n",
       "      <td>56</td>\n",
       "      <td>1</td>\n",
       "      <td>1</td>\n",
       "      <td>120</td>\n",
       "      <td>236</td>\n",
       "      <td>0</td>\n",
       "      <td>1</td>\n",
       "      <td>178</td>\n",
       "      <td>0</td>\n",
       "      <td>0.8</td>\n",
       "      <td>2</td>\n",
       "      <td>0</td>\n",
       "      <td>2</td>\n",
       "      <td>1</td>\n",
       "    </tr>\n",
       "    <tr>\n",
       "      <th>4</th>\n",
       "      <td>57</td>\n",
       "      <td>0</td>\n",
       "      <td>0</td>\n",
       "      <td>120</td>\n",
       "      <td>354</td>\n",
       "      <td>0</td>\n",
       "      <td>1</td>\n",
       "      <td>163</td>\n",
       "      <td>1</td>\n",
       "      <td>0.6</td>\n",
       "      <td>2</td>\n",
       "      <td>0</td>\n",
       "      <td>2</td>\n",
       "      <td>1</td>\n",
       "    </tr>\n",
       "  </tbody>\n",
       "</table>\n",
       "</div>"
      ],
      "text/plain": [
       "   age  sex  cp  trestbps  chol  fbs  restecg  thalach  exang  oldpeak  slope  \\\n",
       "0   63    1   3       145   233    1        0      150      0      2.3      0   \n",
       "1   37    1   2       130   250    0        1      187      0      3.5      0   \n",
       "2   41    0   1       130   204    0        0      172      0      1.4      2   \n",
       "3   56    1   1       120   236    0        1      178      0      0.8      2   \n",
       "4   57    0   0       120   354    0        1      163      1      0.6      2   \n",
       "\n",
       "   ca  thal  target  \n",
       "0   0     1       1  \n",
       "1   0     2       1  \n",
       "2   0     2       1  \n",
       "3   0     2       1  \n",
       "4   0     2       1  "
      ]
     },
     "execution_count": 2,
     "metadata": {},
     "output_type": "execute_result"
    }
   ],
   "source": [
    "df= pd.read_csv('heart-disease.csv')\n",
    "df.head()"
   ]
  },
  {
   "cell_type": "code",
   "execution_count": 6,
   "id": "f8554596-8b4b-4834-84ef-d3da7fd8e6ef",
   "metadata": {},
   "outputs": [],
   "source": [
    "X = df.drop('target', axis=1).values\n",
    "y=df.target"
   ]
  },
  {
   "cell_type": "code",
   "execution_count": 8,
   "id": "0d0dc1e2-6612-464c-82de-7b26595ab186",
   "metadata": {},
   "outputs": [],
   "source": [
    "X_train, X_test, y_train, y_test = train_test_split(X, y, test_size=0.2, random_state=42)"
   ]
  },
  {
   "cell_type": "code",
   "execution_count": 9,
   "id": "62aefbe7-4b02-4aa3-a47c-716aae661bf7",
   "metadata": {},
   "outputs": [
    {
     "data": {
      "text/plain": [
       "((242, 13), (61, 13), (242,), (61,))"
      ]
     },
     "execution_count": 9,
     "metadata": {},
     "output_type": "execute_result"
    }
   ],
   "source": [
    "X_train.shape, X_test.shape, y_train.shape, y_test.shape"
   ]
  },
  {
   "cell_type": "code",
   "execution_count": 47,
   "id": "8f52fc9f-9bd1-4676-8c3e-80455ca6d852",
   "metadata": {},
   "outputs": [],
   "source": [
    "sc=StandardScaler()\n",
    "X_train=sc.fit_transform(X_train)\n",
    "X_test=sc.transform(X_test)"
   ]
  },
  {
   "cell_type": "markdown",
   "id": "aced2091-a490-473b-a710-46985f8e9fb6",
   "metadata": {},
   "source": [
    "# Choose the model/estimator , Fitting And  prediction"
   ]
  },
  {
   "cell_type": "code",
   "execution_count": 78,
   "id": "a910cd12-8fa7-4e93-8576-40bcc16c7c18",
   "metadata": {},
   "outputs": [],
   "source": [
    "model=RandomForestClassifier(n_estimators=50,random_state=42)\n",
    "model.fit(X_train,y_train)\n",
    "y_pred=model.predict(X_test)"
   ]
  },
  {
   "cell_type": "code",
   "execution_count": 79,
   "id": "a72b289a-d73f-40e1-985e-cd3a4e45ec5d",
   "metadata": {},
   "outputs": [
    {
     "data": {
      "text/plain": [
       "1.0"
      ]
     },
     "execution_count": 79,
     "metadata": {},
     "output_type": "execute_result"
    }
   ],
   "source": [
    "model.score(X_train,y_train)"
   ]
  },
  {
   "cell_type": "code",
   "execution_count": 80,
   "id": "dd4eb142-f58a-4ccf-ac20-fc4b168be10a",
   "metadata": {},
   "outputs": [
    {
     "data": {
      "text/plain": [
       "0.8688524590163934"
      ]
     },
     "execution_count": 80,
     "metadata": {},
     "output_type": "execute_result"
    }
   ],
   "source": [
    "model.score(X_test,y_test)"
   ]
  },
  {
   "cell_type": "markdown",
   "id": "be34d954-00da-4dd9-bd25-4fac154c588a",
   "metadata": {},
   "source": [
    "# Experiment to improve (hyperparameter tuning)"
   ]
  },
  {
   "cell_type": "code",
   "execution_count": 59,
   "id": "f900d2d9-4647-45f2-9390-e93c58f5e8aa",
   "metadata": {},
   "outputs": [
    {
     "name": "stdout",
     "output_type": "stream",
     "text": [
      "Trying model with 10 estimators....\n",
      "model accuracy on test set : 0.8524590163934426\n",
      "\n",
      "Trying model with 20 estimators....\n",
      "model accuracy on test set : 0.8032786885245902\n",
      "\n",
      "Trying model with 30 estimators....\n",
      "model accuracy on test set : 0.8360655737704918\n",
      "\n",
      "Trying model with 40 estimators....\n",
      "model accuracy on test set : 0.8032786885245902\n",
      "\n",
      "Trying model with 50 estimators....\n",
      "model accuracy on test set : 0.8688524590163934\n",
      "\n",
      "Trying model with 60 estimators....\n",
      "model accuracy on test set : 0.8360655737704918\n",
      "\n",
      "Trying model with 70 estimators....\n",
      "model accuracy on test set : 0.8360655737704918\n",
      "\n",
      "Trying model with 80 estimators....\n",
      "model accuracy on test set : 0.8360655737704918\n",
      "\n",
      "Trying model with 90 estimators....\n",
      "model accuracy on test set : 0.819672131147541\n",
      "\n"
     ]
    }
   ],
   "source": [
    "np.random.seed(42)\n",
    "for i in range(10, 100, 10):\n",
    "    print(f'Trying model with {i} estimators....')\n",
    "    model=RandomForestClassifier(n_estimators=i).fit(X_train,y_train)\n",
    "    print(f'model accuracy on test set : {model.score(X_test, y_test)}')\n",
    "    print('')"
   ]
  },
  {
   "cell_type": "code",
   "execution_count": 60,
   "id": "2431f20e-be9f-4b45-9d22-4083b8d81249",
   "metadata": {},
   "outputs": [],
   "source": [
    "from sklearn.model_selection import cross_val_score"
   ]
  },
  {
   "cell_type": "code",
   "execution_count": 61,
   "id": "eceec938-a28a-41c3-8af5-0f2596d42a47",
   "metadata": {},
   "outputs": [
    {
     "name": "stdout",
     "output_type": "stream",
     "text": [
      "Trying model with 1 estimator ....\n",
      "Model accuracy on test set : 0.7540983606557377\n",
      "Cross Validation Score : 75.91256830601093%\n",
      "Trying model with 11 estimator ....\n",
      "Model accuracy on test set : 0.8524590163934426\n",
      "Cross Validation Score : 79.85792349726776%\n",
      "Trying model with 21 estimator ....\n",
      "Model accuracy on test set : 0.8524590163934426\n",
      "Cross Validation Score : 79.80874316939891%\n",
      "Trying model with 31 estimator ....\n",
      "Model accuracy on test set : 0.8360655737704918\n",
      "Cross Validation Score : 82.15300546448088%\n",
      "Trying model with 41 estimator ....\n",
      "Model accuracy on test set : 0.819672131147541\n",
      "Cross Validation Score : 81.50273224043715%\n",
      "Trying model with 51 estimator ....\n",
      "Model accuracy on test set : 0.8688524590163934\n",
      "Cross Validation Score : 82.1639344262295%\n",
      "Trying model with 61 estimator ....\n",
      "Model accuracy on test set : 0.8524590163934426\n",
      "Cross Validation Score : 79.51366120218579%\n",
      "Trying model with 71 estimator ....\n",
      "Model accuracy on test set : 0.8360655737704918\n",
      "Cross Validation Score : 82.15300546448088%\n",
      "Trying model with 81 estimator ....\n",
      "Model accuracy on test set : 0.8524590163934426\n",
      "Cross Validation Score : 81.48633879781421%\n",
      "Trying model with 91 estimator ....\n",
      "Model accuracy on test set : 0.8360655737704918\n",
      "Cross Validation Score : 82.48633879781421%\n"
     ]
    }
   ],
   "source": [
    "np.random.seed(42)\n",
    "for i in range(1,100,10):\n",
    "    print(f'Trying model with {i} estimator ....')\n",
    "    model=RandomForestClassifier(n_estimators=i).fit(X_train,y_train)\n",
    "    print(f'Model accuracy on test set : {model.score(X_test,y_test)}')\n",
    "    print(f'Cross Validation Score : {np.mean(cross_val_score(model, X,y, cv=5)) *100}%')"
   ]
  },
  {
   "cell_type": "code",
   "execution_count": 68,
   "id": "df60b04d-2af7-4a40-8bee-c1b82ec24007",
   "metadata": {},
   "outputs": [
    {
     "name": "stdout",
     "output_type": "stream",
     "text": [
      "Accuracy Score for the model is 86.89%\n"
     ]
    }
   ],
   "source": [
    "print(f'Accuracy Score for the model is {(accuracy_score(y_test,y_pred)*100).round(2)}%')"
   ]
  },
  {
   "cell_type": "code",
   "execution_count": null,
   "id": "a5099132-0701-4b5f-83b1-08a3c0a7f8b4",
   "metadata": {},
   "outputs": [],
   "source": []
  },
  {
   "cell_type": "code",
   "execution_count": null,
   "id": "cd98ac80-32f8-4916-8783-f15efcdc5234",
   "metadata": {},
   "outputs": [],
   "source": []
  },
  {
   "cell_type": "code",
   "execution_count": null,
   "id": "64c123cb-9d27-4e37-86f6-7f29b577117a",
   "metadata": {},
   "outputs": [],
   "source": []
  }
 ],
 "metadata": {
  "kernelspec": {
   "display_name": "Python 3 (ipykernel)",
   "language": "python",
   "name": "python3"
  },
  "language_info": {
   "codemirror_mode": {
    "name": "ipython",
    "version": 3
   },
   "file_extension": ".py",
   "mimetype": "text/x-python",
   "name": "python",
   "nbconvert_exporter": "python",
   "pygments_lexer": "ipython3",
   "version": "3.11.7"
  }
 },
 "nbformat": 4,
 "nbformat_minor": 5
}
